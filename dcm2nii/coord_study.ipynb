{
 "cells": [
  {
   "cell_type": "markdown",
   "metadata": {},
   "source": [
    "# dcm/nii, mat/py 공간표현 차이\n",
    "\n",
    "\n",
    "# 기본 축(axis)\n",
    "\n",
    "- dcm/nii : x y z   (= dicominfo : PatientPosicions, PatientOrientations, ImageSize..)  \n",
    "\n",
    "- matlab :  y x z   (= dicomread : image, dose.. 실제 3D 데이터)  \n",
    "- python :  z y x   (= dicomread : image, dose.. 실제 3D 데이터)  \n",
    "\n",
    "\n",
    "# 공간 좌표계\n",
    "\n",
    "> CT 좌표계  \n",
    ">   \n",
    "> x : right-left          (R-L)  \n",
    "> y : anterior-posterior  (A-P)  \n",
    "> z : inferior-superior   (I-S)  \n",
    "\n",
    "- DICOM (LPS)  \n",
    "\n",
    "    x : R->L  \n",
    "    y : A->P  \n",
    "    z : I->S  \n",
    "\n",
    "- NIfTI (RAS)  \n",
    "\n",
    "    x : L->R  \n",
    "    y : P->A  \n",
    "    z : I->S  \n",
    "\n",
    "### + 행 순서 차이  \n",
    "\n",
    "- NifTi (I열 J행 K슬라이스)  \n",
    "\n",
    "    i(=x) : 왼->오  \n",
    "    j(=y) : 아래->위  \n",
    "\n",
    "- DICOM  \n",
    "\n",
    "    i(=x) : 왼->오  \n",
    "    j(=y) : 위->아래  \n",
    "\n",
    "\n",
    "# python(LPS) -> nii(RAS) 변환\n",
    "\n",
    "## affine transformation matrix  \n",
    ": 복셀 좌표(r,c,s) pixel -> 물리적 좌표(x,y,z) mm 변환\n",
    "\n",
    "$\n",
    "A =\n",
    "\\begin{bmatrix}\n",
    "X_x \\cdot \\Delta x & Y_x \\cdot \\Delta y & Z_x \\cdot \\Delta z & X_0 \\\\\n",
    "X_y \\cdot \\Delta x & Y_y \\cdot \\Delta y & Z_y \\cdot \\Delta z & Y_0 \\\\\n",
    "X_z \\cdot \\Delta x & Y_z \\cdot \\Delta y & Z_z \\cdot \\Delta z & Z_0 \\\\\n",
    "0 & 0 & 0 & 1\n",
    "\\end{bmatrix}\n",
    "$  \n",
    "\n",
    "$\n",
    "\\begin{array}{rl}\n",
    "X_0             & : X \\text{ offset} \\\\\n",
    "[X_x, X_y, X_z] & : X \\text{ orientation} \\\\\n",
    "\\Delta x        & : X \\text{ spacing} \\\\\n",
    "\\end{array}\n",
    "$\n",
    "\n",
    "\n",
    "## dcm2niix 결과는 RAS가 아니다 (LAS)\n",
    "\n",
    "LAS (LPS + L-R반전)\n",
    "(kaggle dataset, opensource(dcm2niix) 사용결과)  \n",
    "\n",
    "\n",
    "+ dcm2niix 방식 : LPS 유지 + (L-R 반전), LPS를 유지하려고 하는데 ITK 같은 뷰어에서 반대로 읽히지 않으려고  L-R 반전 적용\n",
    "\n",
    "\n",
    "# VTK, ITK\n",
    "VTK : Visualization Toolkit  \n",
    "ITK : Insight Toolkit  \n",
    "\n",
    "- DICOM : 이미지 좌상단 원점  \n",
    "- NifTi, VTK,ITK : 이미지 좌하단 원점  "
   ]
  },
  {
   "cell_type": "code",
   "execution_count": 1,
   "metadata": {},
   "outputs": [],
   "source": [
    "''' import '''\n",
    "import os\n",
    "import numpy as np\n",
    "import matplotlib.pyplot as plt\n",
    "from IPython.display import display, clear_output\n",
    "\n",
    "import pydicom\n",
    "import nibabel as nib\n",
    "\n",
    "from dicom import dcmread_volume"
   ]
  },
  {
   "cell_type": "code",
   "execution_count": 2,
   "metadata": {},
   "outputs": [],
   "source": [
    "root_path = os.path.join(os.getcwd(), '..', '..',  'dicom_matlab', 'data', 'patient-example')\n",
    "\n",
    "ct_folder = None\n",
    "rtdose_folder = None\n",
    "rtst_folder = None\n",
    "\n",
    "ct_files = []\n",
    "rtdose_files = []\n",
    "rtst_files = []\n",
    "\n",
    "# folders\n",
    "for folder in os.listdir(root_path):\n",
    "    if 'CT' in folder:\n",
    "        ct_folder = os.path.join(root_path, folder)\n",
    "    if 'RTDOSE' in folder:\n",
    "        rtdose_folder = os.path.join(root_path, folder)\n",
    "    if 'RTst' in folder:\n",
    "        rtst_folder = os.path.join(root_path, folder)\n",
    "\n",
    "# files\n",
    "for file in os.listdir(ct_folder): # CT\n",
    "    if file.endswith('.dcm'):\n",
    "        ct_files.append(os.path.join(ct_folder, file))\n",
    "\n",
    "for file in os.listdir(rtdose_folder): # RT dose\n",
    "    if file.endswith('.dcm'):\n",
    "        rtdose_files.append(os.path.join(rtdose_folder, file))\n",
    "\n",
    "for file in os.listdir(rtdose_folder): # RT structure\n",
    "    if file.endswith('.dcm'):\n",
    "        rtst_files.append(os.path.join(rtst_folder, file))\n",
    "\n",
    "# file\n",
    "rtdose_file = rtdose_files[0]\n",
    "rtst_file = rtst_files[0]"
   ]
  },
  {
   "cell_type": "markdown",
   "metadata": {},
   "source": [
    "# CT"
   ]
  },
  {
   "cell_type": "code",
   "execution_count": 67,
   "metadata": {},
   "outputs": [],
   "source": [
    "img_origin = np.zeros(3, dtype=np.double)\n",
    "img_spacing = np.zeros(3, dtype=np.double)\n",
    "img_size = np.zeros(3, dtype=np.int16)\n",
    "\n",
    "\n",
    "''' CT meta '''\n",
    "ct_info_tmp = pydicom.dcmread(ct_files[0])\n",
    "\n",
    "rescale_slope = ct_info_tmp.RescaleSlope\n",
    "rescale_intercept = ct_info_tmp.RescaleIntercept\n",
    "\n",
    "slice_thickness = ct_info_tmp.SliceThickness\n",
    "\n",
    "\n",
    "''' CT img '''\n",
    "image_raw, spatial = dcmread_volume(ct_folder)\n",
    "\n",
    "img_origin[:] = spatial.PatientPositions[0, :]\n",
    "img_spacing[:2] = spatial.PixelSpacings[0, :]\n",
    "img_spacing[2] = slice_thickness\n",
    "img_size[:] = spatial.ImageSize         # matlab : 512(y=r) 512(x=c) 337\n",
    "\n",
    "image = (image_raw*rescale_slope) + rescale_intercept\n",
    "# image = np.transpose(image, (1,0,2)) # y x z -> x y z"
   ]
  },
  {
   "cell_type": "code",
   "execution_count": null,
   "metadata": {},
   "outputs": [],
   "source": [
    "''' anterior-posterior (y, 앞->뒤)'''\n",
    "for i in range(img_size[0]):\n",
    "    clear_output(wait=True)\n",
    "    plt.imshow(image[i,:,:])\n",
    "    plt.show()"
   ]
  },
  {
   "cell_type": "code",
   "execution_count": null,
   "metadata": {},
   "outputs": [],
   "source": [
    "''' right-left (x, 오->왼) ''' # segittal에서 R->L, L->R은 구분할 수 없다\n",
    "for i in range(img_size[1]):\n",
    "    clear_output(wait=True)\n",
    "    plt.imshow(image[:,i,:])\n",
    "    plt.show()"
   ]
  },
  {
   "cell_type": "code",
   "execution_count": null,
   "metadata": {},
   "outputs": [],
   "source": [
    "''' inferior-superior (z, 아래->위) '''\n",
    "for i in range(img_size[2]):\n",
    "    clear_output(wait=True)\n",
    "    plt.imshow(image[:,:,i])\n",
    "    plt.show()"
   ]
  },
  {
   "cell_type": "markdown",
   "metadata": {},
   "source": [
    "# RT dose"
   ]
  },
  {
   "cell_type": "code",
   "execution_count": null,
   "metadata": {},
   "outputs": [],
   "source": [
    "# rtdose_origin = np.zeros(3, dtype=np.double)\n",
    "# rtdose_spacing = np.zeros(3, dtype=np.double)\n",
    "# rtdose_size = np.zeros(3, dtype=np.int16)\n",
    "\n",
    "\n",
    "# ''' RT dose meta'''\n",
    "# rtdose_info = pydicom.dcmread(rtdose_file)\n",
    "\n",
    "# grid_scale = rtdose_info.DoseGridScaling\n",
    "# slice_thickness = rtdose_info.SliceThickness\n",
    "\n",
    "\n",
    "# ''' RT dose img '''\n",
    "# rtdose_raw = rtdose_info.pixel_array\n",
    "# # rtdose_raw = np.transpose(rtdose_raw, (1,2,0)) # z y x -> y x z\n",
    "\n",
    "# rtdose_origin[:] = rtdose_info.ImagePositionPatient\n",
    "# rtdose_spacing[:2] = rtdose_info.PixelSpacing\n",
    "# rtdose_spacing[2] = slice_thickness\n",
    "# rtdose_size[:] = rtdose_raw.shape   # python(z y x) : 317(z) 143(y=r) 267(x=c)   / matlab(y x z) : 143(y=h,r) 267(x=w,c) 317 ----> dcm/nii(x y z)\n",
    "\n",
    "# rtdose = rtdose_raw*grid_scale"
   ]
  },
  {
   "cell_type": "code",
   "execution_count": null,
   "metadata": {},
   "outputs": [],
   "source": [
    "# ''' inferior-superior (z, 아래->위) '''\n",
    "# for i in range(rtdose_size[0]):\n",
    "#     clear_output(wait=True)\n",
    "#     plt.imshow(rtdose[i,:,:])\n",
    "#     plt.show()"
   ]
  },
  {
   "cell_type": "code",
   "execution_count": null,
   "metadata": {},
   "outputs": [],
   "source": [
    "# ''' anterior-posterior (y, 앞->뒤) '''\n",
    "# for i in range(rtdose_size[1]):\n",
    "#     clear_output(wait=True)\n",
    "#     plt.imshow(rtdose[:,i,:])\n",
    "#     plt.show()"
   ]
  },
  {
   "cell_type": "code",
   "execution_count": null,
   "metadata": {},
   "outputs": [],
   "source": [
    "# ''' right-left (x, 왼->오) '''\n",
    "# for i in range(rtdose_size[2]):\n",
    "#     clear_output(wait=True)\n",
    "#     plt.imshow(rtdose[:,:,i])\n",
    "#     plt.show()"
   ]
  }
 ],
 "metadata": {
  "kernelspec": {
   "display_name": "vmat",
   "language": "python",
   "name": "python3"
  },
  "language_info": {
   "codemirror_mode": {
    "name": "ipython",
    "version": 3
   },
   "file_extension": ".py",
   "mimetype": "text/x-python",
   "name": "python",
   "nbconvert_exporter": "python",
   "pygments_lexer": "ipython3",
   "version": "3.12.8"
  }
 },
 "nbformat": 4,
 "nbformat_minor": 2
}
