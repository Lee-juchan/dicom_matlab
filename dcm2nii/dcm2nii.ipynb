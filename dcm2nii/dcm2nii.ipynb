{
 "cells": [
  {
   "cell_type": "markdown",
   "metadata": {},
   "source": [
    "# dcm -> nii 변환\n",
    "\n",
    "## 주의사항\n",
    ": 이미지와 affine matrix를 맞춰줘야함 (LPS, RAS 중 동일한 좌표계를 표시하도록)\n",
    "\n",
    "- 원본 dcm 파일 (x y z) = LPS\n",
    "\n",
    "- pydicom으로 읽은 파일 (z y x) = x\n",
    "\n",
    "- transpose(2,1,0) 적용 (x y z) = LPS\n",
    "\n",
    "- flip(axis=0), flip(axis=1) 적용 = RAS\n",
    "\n",
    "\n",
    "### flip 안한 축은, affine에 - 붙이기\n",
    "\n",
    "nii는 기본적으로 RAS 사용하기에"
   ]
  },
  {
   "cell_type": "code",
   "execution_count": null,
   "metadata": {},
   "outputs": [],
   "source": [
    "''' import '''\n",
    "import os\n",
    "import numpy as np\n",
    "import matplotlib.pyplot as plt\n",
    "from IPython.display import display, clear_output\n",
    "\n",
    "import pydicom\n",
    "import nibabel as nib\n",
    "\n",
    "from dicom import dcmread_volume"
   ]
  },
  {
   "cell_type": "code",
   "execution_count": null,
   "metadata": {},
   "outputs": [],
   "source": [
    "root_path = os.path.join(os.getcwd(), '..', '..',  'dicom_matlab', 'data', 'patient-example')\n",
    "\n",
    "ct_folder = None\n",
    "rtdose_folder = None\n",
    "rtst_folder = None\n",
    "\n",
    "ct_files = []\n",
    "rtdose_files = []\n",
    "rtst_files = []\n",
    "\n",
    "# folders\n",
    "for folder in os.listdir(root_path):\n",
    "    if 'CT' in folder:\n",
    "        ct_folder = os.path.join(root_path, folder)\n",
    "    if 'RTDOSE' in folder:\n",
    "        rtdose_folder = os.path.join(root_path, folder)\n",
    "    if 'RTst' in folder:\n",
    "        rtst_folder = os.path.join(root_path, folder)\n",
    "\n",
    "# files\n",
    "for file in os.listdir(ct_folder): # CT\n",
    "    if file.endswith('.dcm'):\n",
    "        ct_files.append(os.path.join(ct_folder, file))\n",
    "\n",
    "for file in os.listdir(rtdose_folder): # RT dose\n",
    "    if file.endswith('.dcm'):\n",
    "        rtdose_files.append(os.path.join(rtdose_folder, file))\n",
    "\n",
    "for file in os.listdir(rtdose_folder): # RT structure\n",
    "    if file.endswith('.dcm'):\n",
    "        rtst_files.append(os.path.join(rtst_folder, file))\n",
    "\n",
    "# file\n",
    "rtdose_file = rtdose_files[0]\n",
    "rtst_file = rtst_files[0]"
   ]
  },
  {
   "cell_type": "markdown",
   "metadata": {},
   "source": [
    "# CT"
   ]
  },
  {
   "cell_type": "code",
   "execution_count": null,
   "metadata": {},
   "outputs": [],
   "source": [
    "img_offset = np.zeros(3, dtype=np.double)\n",
    "img_orie = np.zeros((2,3), dtype=np.int16)\n",
    "img_spacing = np.zeros(3, dtype=np.double)\n",
    "img_size = np.zeros(3, dtype=np.int16)\n",
    "\n",
    "\n",
    "''' CT meta '''\n",
    "ct_info_tmp = pydicom.dcmread(ct_files[0])\n",
    "\n",
    "rescale_slope = ct_info_tmp.RescaleSlope\n",
    "rescale_intercept = ct_info_tmp.RescaleIntercept\n",
    "\n",
    "\n",
    "''' CT img '''\n",
    "image_raw, spatial = dcmread_volume(ct_folder)\n",
    "\n",
    "image = (image_raw*rescale_slope) + rescale_intercept\n",
    "\n",
    "img_offset[:] = spatial.PatientPositions[0, :]\n",
    "img_orie[:] = spatial.PatientOrientations[0, :]\n",
    "img_spacing[:2] = spatial.PixelSpacings[0, :]\n",
    "img_spacing[2] = spatial.PatientPositions[1, 2] - spatial.PatientPositions[0, 2]\n",
    "img_size[:] = spatial.ImageSize # 337 512 512         # matlab : 512(y=r) 512(x=c) 337"
   ]
  },
  {
   "cell_type": "code",
   "execution_count": null,
   "metadata": {},
   "outputs": [],
   "source": [
    "# '''\n",
    "#     dcm2niix 사용 (ITK : LAS)     LPS + A-P반전\n",
    "# '''\n",
    "# import subprocess\n",
    "\n",
    "# root_path = os.path.join(os.getcwd(), '..', '..',  'dicom_matlab', 'data', 'patient-example')\n",
    "\n",
    "# input_path = os.path.join(root_path, 'DOE^JANE_ANON76206_CT_2021-05-27_171730_._reduceCT_n337__00000')\n",
    "# output_path = os.path.join(root_path, '..')\n",
    "\n",
    "# subprocess.run(['dcm2niix', '-z', 'y', '-o', output_path, '-f', 'ct_d2n', input_path])"
   ]
  },
  {
   "cell_type": "code",
   "execution_count": null,
   "metadata": {},
   "outputs": [],
   "source": [
    "'''\n",
    "    dcm2niix 모방 (ITK : LAS)\n",
    "'''\n",
    "image_d2n = np.transpose(image, (2,1,0))\n",
    "# image_d2n = np.flip(image_d2n, axis=0)\n",
    "image_d2n = np.flip(image_d2n, axis=1) # (P->A)\n",
    "\n",
    "# affine matrix\n",
    "x_off, y_off, z_off = img_offset\n",
    "x_spc, y_spc, z_spc = img_spacing\n",
    "x_ori = img_orie[0,:]\n",
    "y_ori = img_orie[1,:]\n",
    "z_ori = np.cross(img_orie[0,:], img_orie[1,:])\n",
    "\n",
    "ct_affine_d2n = np.array([\n",
    "    [-x_ori[0]*x_spc, -y_ori[0]*y_spc, -z_ori[0]*z_spc, -x_off],\n",
    "    [x_ori[1]*x_spc, y_ori[1]*y_spc, z_ori[1]*z_spc, y_off],\n",
    "    [x_ori[2]*x_spc, y_ori[2]*y_spc, z_ori[2]*z_spc, z_off],\n",
    "    [0, 0, 0, 1]\n",
    "])\n",
    "\n",
    "ct_d2n_nii = nib.Nifti1Image(image_d2n, affine=ct_affine_d2n)\n",
    "\n",
    "nib.save(ct_d2n_nii, '../data/ct_d2n_copy.nii.gz')"
   ]
  },
  {
   "cell_type": "code",
   "execution_count": null,
   "metadata": {},
   "outputs": [],
   "source": [
    "''' LPS (ITK : LPS) '''\n",
    "lps = np.transpose(image, (2,1,0))\n",
    "# lps = np.flip(lps, axis=0)\n",
    "# lps = np.flip(lps, axis=1)\n",
    "\n",
    "# affine matrix\n",
    "x_off, y_off, z_off = img_offset\n",
    "x_spc, y_spc, z_spc = img_spacing\n",
    "x_ori = img_orie[0,:]\n",
    "y_ori = img_orie[1,:]\n",
    "z_ori = np.cross(img_orie[0,:], img_orie[1,:])\n",
    "\n",
    "ct_affine_d2n = np.array([\n",
    "    [-x_ori[0]*x_spc, -y_ori[0]*y_spc, -z_ori[0]*z_spc, -x_off],\n",
    "    [-x_ori[1]*x_spc, -y_ori[1]*y_spc, -z_ori[1]*z_spc, -y_off],\n",
    "    [x_ori[2]*x_spc, y_ori[2]*y_spc, z_ori[2]*z_spc, z_off],\n",
    "    [0, 0, 0, 1]\n",
    "])\n",
    "\n",
    "ct_lps = nib.Nifti1Image(lps, affine=ct_affine_d2n)\n",
    "\n",
    "nib.save(ct_lps, '../data/ct_lps.nii.gz')"
   ]
  },
  {
   "cell_type": "code",
   "execution_count": null,
   "metadata": {},
   "outputs": [],
   "source": [
    "''' RAS (ITK : RAS) '''\n",
    "ras = np.transpose(image, (2,1,0))\n",
    "ras = np.flip(ras, axis=0) # LPS -> RAS\n",
    "ras = np.flip(ras, axis=1)\n",
    "\n",
    "# affine matrix\n",
    "x_off, y_off, z_off = img_offset\n",
    "x_spc, y_spc, z_spc = img_spacing\n",
    "x_ori = img_orie[0,:]\n",
    "y_ori = img_orie[1,:]\n",
    "z_ori = np.cross(img_orie[0,:], img_orie[1,:])\n",
    "\n",
    "ct_affine_d2n = np.array([\n",
    "    [x_ori[0]*x_spc, y_ori[0]*y_spc, z_ori[0]*z_spc, x_off],\n",
    "    [x_ori[1]*x_spc, y_ori[1]*y_spc, z_ori[1]*z_spc, y_off],\n",
    "    [x_ori[2]*x_spc, y_ori[2]*y_spc, z_ori[2]*z_spc, z_off],\n",
    "    [0, 0, 0, 1]\n",
    "])\n",
    "\n",
    "ct_ras = nib.Nifti1Image(ras, affine=ct_affine_d2n)\n",
    "\n",
    "nib.save(ct_ras, '../data/ct_ras.nii.gz')"
   ]
  },
  {
   "cell_type": "code",
   "execution_count": null,
   "metadata": {},
   "outputs": [],
   "source": [
    "''' \n",
    "    affine matrix만 변경 (ITK : SPL) = xyz가 바뀌어 출력\n",
    "'''\n",
    "\n",
    "# affine matrix\n",
    "x_off, y_off, z_off = img_offset\n",
    "x_spc, y_spc, z_spc = img_spacing\n",
    "x_ori = img_orie[0,:] # LPS -> RAS (x,y 반전)\n",
    "y_ori = img_orie[1,:]\n",
    "z_ori = np.cross(img_orie[0,:], img_orie[1,:])\n",
    "\n",
    "ct_affine_aff = np.array([\n",
    "    [-z_ori[0]*z_spc, -y_ori[0]*y_spc, -x_ori[0]*x_spc, -x_off],\n",
    "    [-z_ori[1]*z_spc, -y_ori[1]*y_spc, -x_ori[1]*x_spc, -y_off],\n",
    "    [z_ori[2]*z_spc, y_ori[2]*y_spc, x_ori[2]*x_spc, z_off],\n",
    "    [0, 0, 0, 1]\n",
    "])\n",
    "\n",
    "ct_nii_aff = nib.Nifti1Image(image, affine=ct_affine_aff)\n",
    "\n",
    "nib.save(ct_nii_aff, '../data/ct_aff.nii.gz')"
   ]
  },
  {
   "cell_type": "code",
   "execution_count": null,
   "metadata": {},
   "outputs": [],
   "source": [
    "''' read nii '''\n",
    "data = nib.load('../data/ct_d2n.nii.gz')\n",
    "\n",
    "info = data.header\n",
    "img = data.get_fdata()\n",
    "# print(info)"
   ]
  },
  {
   "cell_type": "code",
   "execution_count": null,
   "metadata": {},
   "outputs": [],
   "source": [
    "# plt.imshow(img[250,:,:])\n",
    "# plt.imshow(img[:,250,:])\n",
    "# plt.imshow(img[:,:,160])"
   ]
  },
  {
   "cell_type": "code",
   "execution_count": null,
   "metadata": {},
   "outputs": [],
   "source": [
    "# # x\n",
    "# for i in range(round(img_size[0]/3)):\n",
    "#     clear_output(wait=True)\n",
    "#     plt.imshow(image[i*3,:,:])\n",
    "#     plt.show()\n",
    "\n",
    "# # y\n",
    "# for i in range(round(img_size[1]/3)):\n",
    "#     clear_output(wait=True)\n",
    "#     plt.imshow(image[:,i*3,:])\n",
    "#     plt.show()\n",
    "\n",
    "# # z\n",
    "# for i in range(round(img_size[2]/3)):\n",
    "#     clear_output(wait=True)\n",
    "#     plt.imshow(image[:,:,i*3].T)\n",
    "#     plt.show()"
   ]
  },
  {
   "cell_type": "markdown",
   "metadata": {},
   "source": [
    "# RT dose\n",
    "data 구조는 CT와 동일(z y x, LPS)"
   ]
  }
 ],
 "metadata": {
  "kernelspec": {
   "display_name": "vmat",
   "language": "python",
   "name": "python3"
  },
  "language_info": {
   "codemirror_mode": {
    "name": "ipython",
    "version": 3
   },
   "file_extension": ".py",
   "mimetype": "text/x-python",
   "name": "python",
   "nbconvert_exporter": "python",
   "pygments_lexer": "ipython3",
   "version": "3.12.8"
  }
 },
 "nbformat": 4,
 "nbformat_minor": 2
}
