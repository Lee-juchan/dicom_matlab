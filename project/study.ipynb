{
 "cells": [
  {
   "cell_type": "code",
   "execution_count": 1,
   "metadata": {},
   "outputs": [],
   "source": [
    "''' import '''\n",
    "import os\n",
    "import numpy as np\n",
    "\n",
    "import pydicom"
   ]
  },
  {
   "cell_type": "code",
   "execution_count": 2,
   "metadata": {},
   "outputs": [],
   "source": [
    "''' dicomreadVolume '''\n",
    "from dicom import dcmread_volume\n",
    "\n",
    "\n",
    "root_path = os.path.join(os.getcwd(), '..', '..',  'dicom_matlab', 'data', 'patient-example')\n",
    "ct_folder = None\n",
    "\n",
    "for folder in os.listdir(root_path):\n",
    "    if 'CT' in folder:\n",
    "        ct_folder = os.path.join(root_path, folder)\n",
    "\n",
    "image, spatial = dcmread_volume(ct_folder)"
   ]
  },
  {
   "cell_type": "code",
   "execution_count": null,
   "metadata": {},
   "outputs": [],
   "source": [
    "''' affine transformation '''\n",
    "affine = np.array([\n",
    "    [1.0, 0.0, 0.0, 5.0],  # 1x + 5\n",
    "    [0.0, 2.0, 0.0, -3.0], # 2y -3\n",
    "    [0.0, 0.0, 1.0, 2.0],  # 1z + 2\n",
    "    [0.0, 0.0, 0.0, 1.0]\n",
    "])\n",
    "\n",
    "origin_coords = np.array([10, 20, 5, 1])  # (x, y, z, 1)\n",
    "transformed_coords = affine @ origin_coords\n",
    "\n",
    "transformed_coords"
   ]
  }
 ],
 "metadata": {
  "kernelspec": {
   "display_name": "vmat",
   "language": "python",
   "name": "python3"
  },
  "language_info": {
   "codemirror_mode": {
    "name": "ipython",
    "version": 3
   },
   "file_extension": ".py",
   "mimetype": "text/x-python",
   "name": "python",
   "nbconvert_exporter": "python",
   "pygments_lexer": "ipython3",
   "version": "3.12.8"
  }
 },
 "nbformat": 4,
 "nbformat_minor": 2
}
