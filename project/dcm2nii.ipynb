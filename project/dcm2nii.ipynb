{
 "cells": [
  {
   "cell_type": "code",
   "execution_count": 127,
   "metadata": {},
   "outputs": [],
   "source": [
    "''' import '''\n",
    "import os\n",
    "import numpy as np\n",
    "import matplotlib.pyplot as plt\n",
    "\n",
    "import pydicom\n",
    "import nibabel as nib\n",
    "\n",
    "from dicom import dcmread_volume"
   ]
  },
  {
   "cell_type": "code",
   "execution_count": 128,
   "metadata": {},
   "outputs": [],
   "source": [
    "root_path = os.path.join(os.getcwd(), '..', '..',  'dicom_matlab', 'data', 'patient-example')\n",
    "\n",
    "ct_folder = None\n",
    "rtdose_folder = None\n",
    "rtst_folder = None\n",
    "\n",
    "ct_files = []\n",
    "rtdose_files = []\n",
    "rtst_files = []\n",
    "\n",
    "# folders\n",
    "for folder in os.listdir(root_path):\n",
    "    if 'CT' in folder:\n",
    "        ct_folder = os.path.join(root_path, folder)\n",
    "    if 'RTDOSE' in folder:\n",
    "        rtdose_folder = os.path.join(root_path, folder)\n",
    "    if 'RTst' in folder:\n",
    "        rtst_folder = os.path.join(root_path, folder)\n",
    "\n",
    "# files\n",
    "for file in os.listdir(ct_folder): # CT\n",
    "    if file.endswith('.dcm'):\n",
    "        ct_files.append(os.path.join(ct_folder, file))\n",
    "\n",
    "for file in os.listdir(rtdose_folder): # RT dose\n",
    "    if file.endswith('.dcm'):\n",
    "        rtdose_files.append(os.path.join(rtdose_folder, file))\n",
    "\n",
    "for file in os.listdir(rtdose_folder): # RT structure\n",
    "    if file.endswith('.dcm'):\n",
    "        rtst_files.append(os.path.join(rtst_folder, file))\n",
    "\n",
    "# file\n",
    "rtdose_file = rtdose_files[0]\n",
    "rtst_file = rtst_files[0]"
   ]
  },
  {
   "cell_type": "markdown",
   "metadata": {},
   "source": [
    "# CT"
   ]
  },
  {
   "cell_type": "code",
   "execution_count": 134,
   "metadata": {},
   "outputs": [],
   "source": [
    "img_origin = np.zeros(3, dtype=np.double)\n",
    "img_spacing = np.zeros(3, dtype=np.double)\n",
    "img_size = np.zeros(3, dtype=np.int16)\n",
    "\n",
    "\n",
    "''' CT meta '''\n",
    "ct_info_tmp = pydicom.dcmread(ct_files[0])\n",
    "\n",
    "rescale_slope = ct_info_tmp.RescaleSlope\n",
    "rescale_intercept = ct_info_tmp.RescaleIntercept\n",
    "\n",
    "slice_thickness = ct_info_tmp.SliceThickness\n",
    "\n",
    "\n",
    "''' CT img '''\n",
    "image_raw, spatial = dcmread_volume(ct_folder)\n",
    "\n",
    "img_origin[:] = spatial.PatientPositions[0, :]\n",
    "img_spacing[:2] = spatial.PixelSpacings[0, :]\n",
    "img_spacing[2] = slice_thickness\n",
    "img_size[:] = spatial.ImageSize # 512 512 337 (이건 웃기게도 python, matlab 동일)\n",
    "\n",
    "image = (image_raw*rescale_slope) + rescale_intercept\n",
    "image = np.transpose(image, (1,0,2)) # y x z -> x y z"
   ]
  },
  {
   "cell_type": "code",
   "execution_count": 130,
   "metadata": {},
   "outputs": [],
   "source": [
    "''' save nii '''\n",
    "ct_affine = np.array([\n",
    "    [img_spacing[0], 0, 0, img_origin[0]],\n",
    "    [0, img_spacing[1], 0, img_origin[1]],\n",
    "    [0, 0, img_spacing[2], img_origin[2]],\n",
    "    [0, 0, 0, 1]\n",
    "])\n",
    "\n",
    "ct_nii = nib.Nifti1Image(image, ct_affine)\n",
    "\n",
    "# nib.save(ct_nii, '../data/ct.nii')"
   ]
  },
  {
   "cell_type": "code",
   "execution_count": null,
   "metadata": {},
   "outputs": [],
   "source": [
    "''' read nii '''\n",
    "ct_data = nib.load('../data/ct.nii')\n",
    "\n",
    "ct_info = ct_data.header\n",
    "ct_affine = ct_data.affine\n",
    "image = ct_data.get_fdata()\n",
    "\n",
    "print(ct_info)"
   ]
  },
  {
   "cell_type": "code",
   "execution_count": null,
   "metadata": {},
   "outputs": [],
   "source": [
    "''' plot nii '''\n",
    "img_origin = ct_affine[:3,3]\n",
    "img_size = ct_info['dim'][1:4]\n",
    "img_spacing = ct_info.get_zooms()\n",
    "\n",
    "img_x = np.linspace(img_origin[0], img_origin[0] + img_spacing[0]*(img_size[0] - 1), img_size[0])\n",
    "img_y = np.linspace(img_origin[1], img_origin[1] + img_spacing[1]*(img_size[1] - 1), img_size[1])\n",
    "img_z = np.linspace(img_origin[2], img_origin[2] + img_spacing[2]*(img_size[2] - 1), img_size[2])\n",
    "\n",
    "_, axs = plt.subplots(1,3, figsize=(15,5))\n",
    "\n",
    "axs[0].set_title('axial')\n",
    "axs[0].imshow(image[:,:,160], cmap='gray', \n",
    "              extent=[img_y[0], img_y[-1], img_x[-1], img_x[0]])\n",
    "\n",
    "axs[1].set_title('coronal')\n",
    "axs[1].imshow(image[250,:,:].T, cmap='gray',\n",
    "              extent=[img_y[0], img_y[-1], img_z[-1], img_z[0]])\n",
    "axs[1].invert_yaxis()\n",
    "\n",
    "axs[2].set_title('sagittal')\n",
    "axs[2].imshow(image[:,250,:].T, cmap='gray', \n",
    "              extent=[img_x[0], img_x[-1], img_z[-1], img_z[0]])\n",
    "axs[2].invert_yaxis()\n",
    "\n",
    "plt.show()"
   ]
  },
  {
   "cell_type": "markdown",
   "metadata": {},
   "source": [
    "# RT dose"
   ]
  },
  {
   "cell_type": "code",
   "execution_count": 123,
   "metadata": {},
   "outputs": [],
   "source": [
    "rtdose_origin = np.zeros(3, dtype=np.double)\n",
    "rtdose_spacing = np.zeros(3, dtype=np.double)\n",
    "rtdose_size = np.zeros(3, dtype=np.int16)\n",
    "\n",
    "\n",
    "''' RT dose meta'''\n",
    "rtdose_info = pydicom.dcmread(rtdose_file)\n",
    "\n",
    "grid_scale = rtdose_info.DoseGridScaling\n",
    "slice_thickness = rtdose_info.SliceThickness\n",
    "\n",
    "\n",
    "''' RT dose img '''\n",
    "rtdose_raw = rtdose_info.pixel_array\n",
    "\n",
    "rtdose_origin[:] = rtdose_info.ImagePositionPatient\n",
    "rtdose_spacing[:2] = rtdose_info.PixelSpacing\n",
    "rtdose_spacing[2] = slice_thickness\n",
    "rtdose_size[:] = rtdose_raw.shape   # python(z y x) : 317 143 267   / matlab(y x z) : 143 267 317 ----> dcm/nii(x y z)\n",
    "\n",
    "rtdose = rtdose_raw*grid_scale\n",
    "rtdose = np.transpose(rtdose, (2,1,0)) # z y x -> x y z"
   ]
  },
  {
   "cell_type": "code",
   "execution_count": null,
   "metadata": {},
   "outputs": [],
   "source": [
    "rtdose_x = np.linspace(rtdose_origin[0], rtdose_origin[0] + rtdose_spacing[0]*(rtdose_size[0] - 1), rtdose_size[0])\n",
    "rtdose_y = np.linspace(rtdose_origin[1], rtdose_origin[1] + rtdose_spacing[1]*(rtdose_size[1] - 1), rtdose_size[1])\n",
    "rtdose_z = np.linspace(rtdose_origin[2], rtdose_origin[2] + rtdose_spacing[2]*(rtdose_size[2] - 1), rtdose_size[2])\n",
    "\n",
    "_, axs = plt.subplots(1,3, figsize=(15,5))\n",
    "\n",
    "axs[0].set_title('axial')\n",
    "axs[0].imshow(rtdose[:,:,130], \n",
    "              extent=[rtdose_y[0], rtdose_y[-1], rtdose_x[-1], rtdose_x[0]])\n",
    "\n",
    "axs[1].set_title('coronal')\n",
    "axs[1].imshow(rtdose[150,:,:].T,\n",
    "              extent=[rtdose_y[0], rtdose_y[-1], rtdose_z[-1], rtdose_z[0]])\n",
    "axs[1].invert_yaxis()\n",
    "\n",
    "axs[2].set_title('sagittal')\n",
    "axs[2].imshow(rtdose[:,70,:].T, \n",
    "              extent=[rtdose_x[0], rtdose_x[-1], rtdose_z[-1], rtdose_z[0]])\n",
    "axs[2].invert_yaxis()\n",
    "\n",
    "plt.show()"
   ]
  },
  {
   "cell_type": "code",
   "execution_count": null,
   "metadata": {},
   "outputs": [],
   "source": [
    "rtdose.shape"
   ]
  },
  {
   "cell_type": "code",
   "execution_count": 111,
   "metadata": {},
   "outputs": [],
   "source": [
    "''' save nii '''\n",
    "\n",
    "rtdose_affine = np.array([\n",
    "    [rtdose_spacing[0], 0, 0, rtdose_origin[0]],\n",
    "    [0, rtdose_spacing[1], 0, rtdose_origin[1]],\n",
    "    [0, 0, rtdose_spacing[2], rtdose_origin[2]],\n",
    "    [0, 0, 0, 1]\n",
    "])\n",
    "\n",
    "rtdose_nii = nib.Nifti1Image(rtdose, rtdose_affine)\n",
    "\n",
    "# nib.save(rtdose_nii, '../data/rtdose.nii')"
   ]
  },
  {
   "cell_type": "code",
   "execution_count": null,
   "metadata": {},
   "outputs": [],
   "source": [
    "''' read nii '''\n",
    "rtdose_data = nib.load('../data/rtdose.nii')\n",
    "\n",
    "rtdose_info = rtdose_data.header\n",
    "rtdose_affine = rtdose_data.affine\n",
    "rtdose = rtdose_data.get_fdata()\n",
    "\n",
    "print(rtdose_info)"
   ]
  },
  {
   "cell_type": "code",
   "execution_count": null,
   "metadata": {},
   "outputs": [],
   "source": [
    "''' plot nii '''\n",
    "rtdose_origin = rtdose_affine[:3,3]\n",
    "rtdose_spacing = rtdose_info.get_zooms()\n",
    "rtdose_size = rtdose_info['dim'][1:4]\n",
    "rtdose_size = rtdose_size[::-1] # python(z y x) : 317 143 267 ----> dcm/nii(x y z)\n",
    "\n",
    "rtdose_x = np.linspace(rtdose_origin[0], rtdose_origin[0] + rtdose_spacing[0]*(rtdose_size[0] - 1), rtdose_size[0])\n",
    "rtdose_y = np.linspace(rtdose_origin[1], rtdose_origin[1] + rtdose_spacing[1]*(rtdose_size[1] - 1), rtdose_size[1])\n",
    "rtdose_z = np.linspace(rtdose_origin[2], rtdose_origin[2] + rtdose_spacing[2]*(rtdose_size[2] - 1), rtdose_size[2])\n",
    "\n",
    "_, axs = plt.subplots(1,3, figsize=(15,5))\n",
    "\n",
    "axs[0].set_title('axial')\n",
    "axs[0].imshow(rtdose[:,:,130], \n",
    "              extent=[rtdose_y[0], rtdose_y[-1], rtdose_x[-1], rtdose_x[0]])\n",
    "\n",
    "axs[1].set_title('coronal')\n",
    "axs[1].imshow(rtdose[150,:,:].T,\n",
    "              extent=[rtdose_y[0], rtdose_y[-1], rtdose_z[-1], rtdose_z[0]])\n",
    "axs[1].invert_yaxis()\n",
    "\n",
    "axs[2].set_title('sagittal')\n",
    "axs[2].imshow(rtdose[:,70,:].T, \n",
    "              extent=[rtdose_x[0], rtdose_x[-1], rtdose_z[-1], rtdose_z[0]])\n",
    "axs[2].invert_yaxis()\n",
    "\n",
    "plt.show()"
   ]
  },
  {
   "cell_type": "code",
   "execution_count": 11,
   "metadata": {},
   "outputs": [],
   "source": [
    "# rtst_info = dicominfo(RTstFile, 'UseVRHeuristic', false);\n",
    "# contour = dicomContours(rtst_info);"
   ]
  }
 ],
 "metadata": {
  "kernelspec": {
   "display_name": "vmat",
   "language": "python",
   "name": "python3"
  },
  "language_info": {
   "codemirror_mode": {
    "name": "ipython",
    "version": 3
   },
   "file_extension": ".py",
   "mimetype": "text/x-python",
   "name": "python",
   "nbconvert_exporter": "python",
   "pygments_lexer": "ipython3",
   "version": "3.12.8"
  }
 },
 "nbformat": 4,
 "nbformat_minor": 2
}
